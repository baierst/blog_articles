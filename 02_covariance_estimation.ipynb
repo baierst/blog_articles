{
  "nbformat": 4,
  "nbformat_minor": 0,
  "metadata": {
    "colab": {
      "provenance": []
    },
    "kernelspec": {
      "name": "python3",
      "display_name": "Python 3"
    },
    "language_info": {
      "name": "python"
    }
  },
  "cells": [
    {
      "cell_type": "code",
      "source": [
        "import numpy as np\n",
        "import pandas as pd"
      ],
      "metadata": {
        "id": "YdIwt6Vl6ngv"
      },
      "execution_count": null,
      "outputs": []
    },
    {
      "cell_type": "code",
      "source": [
        "def shrinked_cov(X):\n",
        "  t, n = np.shape(X)\n",
        "\n",
        "  S = np.cov(X, rowvar=False)  # sample cov matrix\n",
        "\n",
        "  # Constant correlation target\n",
        "  var = np.diag(S).reshape(-1, 1)\n",
        "  std = np.sqrt(var)\n",
        "  _var = np.tile(var, (n,))\n",
        "  _std = np.tile(std, (n,))\n",
        "  r_bar = (np.sum(S / (_std * _std.T)) - n) / (n * (n - 1))\n",
        "  F = r_bar * (_std * _std.T)\n",
        "  F[np.eye(n) == 1] = var.reshape(-1)\n",
        "\n",
        "  # Estimate pi\n",
        "  Xm = X - X.mean(axis=0)\n",
        "  y = Xm ** 2\n",
        "  pi_mat = np.dot(y.T, y) / t - 2 * np.dot(Xm.T, Xm) * S / t + S ** 2\n",
        "  pi_hat = np.sum(pi_mat)\n",
        "\n",
        "  # Theta matrix, expanded term by term\n",
        "  term1 = np.dot((Xm ** 3).T, Xm) / t\n",
        "  help_ = np.dot(Xm.T, Xm) / t\n",
        "  help_diag = np.diag(help_)\n",
        "  term2 = np.tile(help_diag, (n, 1)).T * S\n",
        "  term3 = help_ * _var\n",
        "  term4 = _var * S\n",
        "  theta_mat = term1 - term2 - term3 + term4\n",
        "  theta_mat[np.eye(n) == 1] = np.zeros(n)\n",
        "  rho_hat = sum(np.diag(pi_mat)) + r_bar * np.sum(\n",
        "      np.dot((1 / std), std.T) * theta_mat\n",
        "  )\n",
        "\n",
        "  # Estimate gamma\n",
        "  gamma_hat = np.linalg.norm(S - F, \"fro\") ** 2\n",
        "\n",
        "  # Compute shrinkage constant\n",
        "  kappa_hat = (pi_hat - rho_hat) / gamma_hat\n",
        "  delta = max(0.0, min(1.0, kappa_hat / t))aa\n",
        "\n",
        "  # Compute shrunk covariance matrix\n",
        "  shrunk_cov = delta * F + (1 - delta) * S\n",
        "  return shrunk_cov"
      ],
      "metadata": {
        "id": "JljutsJBjOVJ"
      },
      "execution_count": null,
      "outputs": []
    },
    {
      "cell_type": "markdown",
      "source": [
        "$\\Sigma = \\delta F + (1-\\delta) S$"
      ],
      "metadata": {
        "id": "9CmjoJ3oKoDA"
      }
    },
    {
      "cell_type": "markdown",
      "source": [
        "$f_{ii} = s \\hspace{1cm}f_{ij} = \\bar{r}\\sqrt{s_{ii} s_{jj}} $"
      ],
      "metadata": {
        "id": "LocYyFVDNKLs"
      }
    },
    {
      "cell_type": "markdown",
      "source": [
        "$L(\\delta)=\\Vert \\delta F + (1 - \\delta) S - \\Sigma \\Vert^2$"
      ],
      "metadata": {
        "id": "oUuCwrRkPCXj"
      }
    },
    {
      "cell_type": "code",
      "source": [
        "def corr2cov(corr, std):\n",
        "    cov = corr * np.outer(std, std)\n",
        "    return cov   "
      ],
      "metadata": {
        "id": "oZyygnrg8Go-"
      },
      "execution_count": null,
      "outputs": []
    },
    {
      "cell_type": "code",
      "execution_count": null,
      "metadata": {
        "id": "2E9BGSEZ6Bd3"
      },
      "outputs": [],
      "source": [
        "def formBlockMatrix(nBlocks, bSize, bCorr):\n",
        "  block = np.ones((bSize, bSize)) * bCorr\n",
        "  block[range(bSize), range(bSize)] = 1\n",
        "  corr = block_diag(*([block] * nBlocks))\n",
        "  return corr"
      ]
    },
    {
      "cell_type": "code",
      "source": [
        "def formTrueMatrix(nBlocks, bSize, bCorr):\n",
        "  corr0 = formBlockMatrix(nBlocks, bSize, bCorr)\n",
        "  corr0 = pd.DataFrame(corr0)\n",
        "  cols = corr0.columns.tolist()\n",
        "  np.random.shuffle(cols)\n",
        "  corr0 = corr0[cols].loc[cols].copy(deep=True)\n",
        "  std0 = np.random.uniform(0.05, 0.2, corr0.shape[0])\n",
        "  cov0 = corr2cov(corr0, std0)\n",
        "  mu0 = np.random.normal(std0, std0, cov0.shape[0]).reshape(-1, 1)\n",
        "  return mu0, cov0"
      ],
      "metadata": {
        "id": "8pK77Fma6lXc"
      },
      "execution_count": null,
      "outputs": []
    },
    {
      "cell_type": "code",
      "source": [
        "from scipy.linalg import block_diag\n",
        "from sklearn.covariance import LedoitWolf\n",
        "nBlocks = 50\n",
        "bSize = 10\n",
        "bCorr = .5\n",
        "np.random.seed(0)\n",
        "mu0, cov0 = formTrueMatrix(nBlocks, bSize, bCorr)"
      ],
      "metadata": {
        "id": "fInoX-zq7X-p"
      },
      "execution_count": null,
      "outputs": []
    },
    {
      "cell_type": "code",
      "source": [
        "def simCovMu(mu0, cov0, nObs, shrink=False):\n",
        "  x = np.random.multivariate_normal(mu0.flatten(), cov0, size=nObs)\n",
        "  mu1 = x.mean(axis=0).reshape(-1,1)\n",
        "  if shrink:\n",
        "    cov1 = shrinked_cov(x)\n",
        "  else:\n",
        "    cov1 = np.cov(x, rowvar=False)\n",
        "  return mu1, cov1"
      ],
      "metadata": {
        "id": "Q4X-qLo39IjP"
      },
      "execution_count": null,
      "outputs": []
    },
    {
      "cell_type": "code",
      "source": [
        "def optPort(cov, mu=None):\n",
        "  inv = np.linalg.inv(cov)\n",
        "  ones = np.ones(shape=(inv.shape[0], 1))\n",
        "  if mu is None:\n",
        "    mu = ones\n",
        "  w = np.dot(inv, mu)\n",
        "  w /= np.dot(ones.T, w)\n",
        "\n",
        "  return w"
      ],
      "metadata": {
        "id": "1Mhv8tAt9oxn"
      },
      "execution_count": null,
      "outputs": []
    },
    {
      "cell_type": "code",
      "source": [
        "nObs = 1000\n",
        "nTrials = 100\n",
        "\n",
        "w1 = pd.DataFrame(columns=range(cov0.shape[0]), index=range(nTrials), dtype=float)\n",
        "np.random.seed(0)\n",
        "\n",
        "print(\"MIN VARIANCE\")\n",
        "minVarPortf = True\n",
        "shrink = False\n",
        "for i in range(nTrials):\n",
        "  mu1, cov1 = simCovMu(mu0, cov0, nObs, shrink=shrink)\n",
        "  if minVarPortf:\n",
        "    mu1 = None\n",
        "  w1.loc[i] = optPort(cov1, mu1).flatten()\n",
        "\n",
        "w0 = optPort(cov0, None if minVarPortf else mu0)\n",
        "w0 = np.repeat(w0.T, w1.shape[0], axis=0)\n",
        "rmsd = np.mean((w1-w0).values.flatten()**2)**.5\n",
        "\n",
        "print(f\"NO SHRINKAGE: {rmsd}\")\n",
        "\n",
        "shrink = True\n",
        "for i in range(nTrials):\n",
        "  mu1, cov1 = simCovMu(mu0, cov0, nObs, shrink=shrink)\n",
        "  if minVarPortf:\n",
        "    mu1 = None\n",
        "  w1.loc[i] = optPort(cov1, mu1).flatten()\n",
        "\n",
        "w0 = optPort(cov0, None if minVarPortf else mu0)\n",
        "w0 = np.repeat(w0.T, w1.shape[0], axis=0)\n",
        "rmsd = np.mean((w1-w0).values.flatten()**2)**.5\n",
        "\n",
        "print(f\"WITH SHRINKAGE: {rmsd}\")"
      ],
      "metadata": {
        "colab": {
          "base_uri": "https://localhost:8080/"
        },
        "id": "h3-OuwJ6E-Lt",
        "outputId": "507bf154-8062-4e2f-9580-31c1f9cb3e27"
      },
      "execution_count": null,
      "outputs": [
        {
          "output_type": "stream",
          "name": "stdout",
          "text": [
            "MIN VARIANCE\n",
            "NO SHRINKAGE: 0.0042147951260484515\n",
            "WITH SHRINKAGE: 0.002057580131377334\n"
          ]
        }
      ]
    },
    {
      "cell_type": "code",
      "source": [
        "nObs = 1000\n",
        "nTrials = 100\n",
        "\n",
        "w1 = pd.DataFrame(columns=range(cov0.shape[0]), index=range(nTrials), dtype=float)\n",
        "np.random.seed(0)\n",
        "\n",
        "print(\"MAX SHARPE RATIO\")\n",
        "minVarPortf = False\n",
        "shrink = False\n",
        "for i in range(nTrials):\n",
        "  mu1, cov1 = simCovMu(mu0, cov0, nObs, shrink=shrink)\n",
        "  if minVarPortf:\n",
        "    mu1 = None\n",
        "  w1.loc[i] = optPort(cov1, mu1).flatten()\n",
        "\n",
        "w0 = optPort(cov0, None if minVarPortf else mu0)\n",
        "w0 = np.repeat(w0.T, w1.shape[0], axis=0)\n",
        "rmsd = np.mean((w1-w0).values.flatten()**2)**.5\n",
        "\n",
        "print(f\"NO SHRINKAGE: {rmsd}\")\n",
        "\n",
        "shrink = True\n",
        "for i in range(nTrials):\n",
        "  mu1, cov1 = simCovMu(mu0, cov0, nObs, shrink=shrink)\n",
        "  if minVarPortf:\n",
        "    mu1 = None\n",
        "  w1.loc[i] = optPort(cov1, mu1).flatten()\n",
        "\n",
        "w0 = optPort(cov0, None if minVarPortf else mu0)\n",
        "w0 = np.repeat(w0.T, w1.shape[0], axis=0)\n",
        "rmsd = np.mean((w1-w0).values.flatten()**2)**.5\n",
        "\n",
        "print(f\"WITH SHRINKAGE: {rmsd}\")"
      ],
      "metadata": {
        "colab": {
          "base_uri": "https://localhost:8080/"
        },
        "id": "uF4cjFFR-HF4",
        "outputId": "f1e82cca-f87f-4536-e86f-32eb6c57a156"
      },
      "execution_count": null,
      "outputs": [
        {
          "output_type": "stream",
          "name": "stdout",
          "text": [
            "MAX SHARPE RATIO\n",
            "NO SHRINKAGE: 0.0217839081669506\n",
            "WITH SHRINKAGE: 0.009158477044664225\n"
          ]
        }
      ]
    },
    {
      "cell_type": "code",
      "source": [],
      "metadata": {
        "id": "FVsq5ljnDnqf"
      },
      "execution_count": null,
      "outputs": []
    }
  ]
}